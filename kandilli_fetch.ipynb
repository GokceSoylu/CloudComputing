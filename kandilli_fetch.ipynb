{
 "cells": [
  {
   "cell_type": "code",
   "execution_count": 1,
   "metadata": {},
   "outputs": [
    {
     "name": "stderr",
     "output_type": "stream",
     "text": [
      "/Users/gokcesoylu/Library/Python/3.9/lib/python/site-packages/urllib3/__init__.py:35: NotOpenSSLWarning: urllib3 v2 only supports OpenSSL 1.1.1+, currently the 'ssl' module is compiled with 'LibreSSL 2.8.3'. See: https://github.com/urllib3/urllib3/issues/3020\n",
      "  warnings.warn(\n"
     ]
    },
    {
     "name": "stdout",
     "output_type": "stream",
     "text": [
      "Kandilli verileri 'kandilli_earthquake_data.json' dosyasına kaydedildi.\n"
     ]
    }
   ],
   "source": [
    "from bs4 import BeautifulSoup\n",
    "import requests\n",
    "import json\n",
    "\n",
    "# Kandilli Rasathanesi'nin son depremler sayfası\n",
    "KANDILLI_URL = \"http://www.koeri.boun.edu.tr/scripts/lst0.asp\"\n",
    "\n",
    "def scrape_kandilli_earthquake_data(output_file):\n",
    "    \"\"\"\n",
    "    Kandilli Rasathanesi web sitesinden deprem verilerini scrape eder ve JSON dosyasına kaydeder.\n",
    "    \"\"\"\n",
    "    try:\n",
    "        # Web sitesine GET isteği gönder\n",
    "        response = requests.get(KANDILLI_URL)\n",
    "        response.raise_for_status()  # Hata kontrolü\n",
    "\n",
    "        # HTML içeriğini ayrıştır\n",
    "        soup = BeautifulSoup(response.content, \"html.parser\")\n",
    "\n",
    "        # Tablodaki verileri bul\n",
    "        pre_tag = soup.find(\"pre\")\n",
    "        if not pre_tag:\n",
    "            raise ValueError(\"Tablo verisi bulunamadı. Yapıyı kontrol edin.\")\n",
    "\n",
    "        # Verileri satırlara böl\n",
    "        lines = pre_tag.text.strip().split(\"\\n\")[6:]  # İlk 6 satır başlık bilgisi\n",
    "        earthquake_data = []\n",
    "\n",
    "        # Satırları ayrıştır\n",
    "        for line in lines:\n",
    "            columns = line.split()\n",
    "            if len(columns) >= 9:\n",
    "                earthquake = {\n",
    "                    \"date\": f\"{columns[0]} {columns[1]}\",  # Tarih ve saat birleştirilir\n",
    "                    \"latitude\": columns[2],\n",
    "                    \"longitude\": columns[3],\n",
    "                    \"depth_km\": columns[4],\n",
    "                    \"magnitude\": columns[6],\n",
    "                    \"location\": \" \".join(columns[8:]),  # Lokasyon bilgisi\n",
    "                }\n",
    "                earthquake_data.append(earthquake)\n",
    "\n",
    "        # JSON dosyasına kaydet\n",
    "        with open(output_file, \"w\") as file:\n",
    "            json.dump(earthquake_data, file, indent=4, ensure_ascii=False)\n",
    "\n",
    "        print(f\"Kandilli verileri '{output_file}' dosyasına kaydedildi.\")\n",
    "    except Exception as e:\n",
    "        print(f\"Veri çekme başarısız oldu: {e}\")\n",
    "\n",
    "# Örnek kullanım\n",
    "if __name__ == \"__main__\":\n",
    "    scrape_kandilli_earthquake_data(\"kandilli_earthquake_data.json\")\n"
   ]
  },
  {
   "cell_type": "code",
   "execution_count": null,
   "metadata": {},
   "outputs": [],
   "source": []
  }
 ],
 "metadata": {
  "kernelspec": {
   "display_name": "Python 3",
   "language": "python",
   "name": "python3"
  },
  "language_info": {
   "codemirror_mode": {
    "name": "ipython",
    "version": 3
   },
   "file_extension": ".py",
   "mimetype": "text/x-python",
   "name": "python",
   "nbconvert_exporter": "python",
   "pygments_lexer": "ipython3",
   "version": "3.9.6"
  }
 },
 "nbformat": 4,
 "nbformat_minor": 2
}
