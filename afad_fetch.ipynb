{
 "cells": [
  {
   "cell_type": "code",
   "execution_count": 1,
   "metadata": {},
   "outputs": [
    {
     "name": "stderr",
     "output_type": "stream",
     "text": [
      "/Users/gokcesoylu/Library/Python/3.9/lib/python/site-packages/urllib3/__init__.py:35: NotOpenSSLWarning: urllib3 v2 only supports OpenSSL 1.1.1+, currently the 'ssl' module is compiled with 'LibreSSL 2.8.3'. See: https://github.com/urllib3/urllib3/issues/3020\n",
      "  warnings.warn(\n"
     ]
    },
    {
     "name": "stdout",
     "output_type": "stream",
     "text": [
      "API isteği başarısız oldu: Expecting value: line 1 column 1 (char 0)\n"
     ]
    }
   ],
   "source": [
    "import requests\n",
    "import json\n",
    "from datetime import datetime, timedelta\n",
    "\n",
    "# AFAD API endpoint (örnek endpoint, gerçek dokümantasyon gerekebilir)\n",
    "AFAD_API_URL = \"https://deprem.afad.gov.tr/api\"  # Endpoint doğruysa değiştirilebilir\n",
    "\n",
    "def fetch_afad_earthquake_data(start_time, end_time, min_magnitude, output_file):\n",
    "    \"\"\"\n",
    "    AFAD API'den deprem verilerini çeker ve JSON dosyasına kaydeder.\n",
    "    \"\"\"\n",
    "    params = {\n",
    "        \"starttime\": start_time,\n",
    "        \"endtime\": end_time,\n",
    "        \"minmagnitude\": min_magnitude,\n",
    "        \"format\": \"json\"  # Yanıt formatı\n",
    "    }\n",
    "\n",
    "    try:\n",
    "        # API isteği gönder\n",
    "        response = requests.get(AFAD_API_URL, params=params)\n",
    "        response.raise_for_status()  # Hata kontrolü\n",
    "\n",
    "        # Yanıtı JSON formatında işleme\n",
    "        data = response.json()\n",
    "\n",
    "        # JSON dosyasına kaydet\n",
    "        with open(output_file, \"w\") as file:\n",
    "            json.dump(data, file, indent=4)\n",
    "\n",
    "        print(f\"AFAD verileri '{output_file}' dosyasına kaydedildi.\")\n",
    "    except requests.exceptions.RequestException as e:\n",
    "        print(f\"API isteği başarısız oldu: {e}\")\n",
    "\n",
    "# Örnek kullanım\n",
    "if __name__ == \"__main__\":\n",
    "    # Geçtiğimiz bir haftalık depremleri çek\n",
    "    end_date = datetime.utcnow()\n",
    "    start_date = end_date - timedelta(days=7)\n",
    "\n",
    "    fetch_afad_earthquake_data(\n",
    "        start_time=start_date.strftime(\"%Y-%m-%d\"),\n",
    "        end_time=end_date.strftime(\"%Y-%m-%d\"),\n",
    "        min_magnitude=4.0,  # Minimum büyüklük\n",
    "        output_file=\"afad_earthquake_data.json\"\n",
    "    )\n"
   ]
  },
  {
   "cell_type": "code",
   "execution_count": 2,
   "metadata": {},
   "outputs": [
    {
     "name": "stdout",
     "output_type": "stream",
     "text": [
      "Defaulting to user installation because normal site-packages is not writeable\n",
      "Requirement already satisfied: beautifulsoup4 in /Users/gokcesoylu/Library/Python/3.9/lib/python/site-packages (4.12.3)\n",
      "Requirement already satisfied: requests in /Users/gokcesoylu/Library/Python/3.9/lib/python/site-packages (2.32.3)\n",
      "Requirement already satisfied: soupsieve>1.2 in /Users/gokcesoylu/Library/Python/3.9/lib/python/site-packages (from beautifulsoup4) (2.6)\n",
      "Requirement already satisfied: charset-normalizer<4,>=2 in /Users/gokcesoylu/Library/Python/3.9/lib/python/site-packages (from requests) (3.4.0)\n",
      "Requirement already satisfied: idna<4,>=2.5 in /Users/gokcesoylu/Library/Python/3.9/lib/python/site-packages (from requests) (3.10)\n",
      "Requirement already satisfied: urllib3<3,>=1.21.1 in /Users/gokcesoylu/Library/Python/3.9/lib/python/site-packages (from requests) (2.2.3)\n",
      "Requirement already satisfied: certifi>=2017.4.17 in /Users/gokcesoylu/Library/Python/3.9/lib/python/site-packages (from requests) (2024.8.30)\n",
      "\n",
      "\u001b[1m[\u001b[0m\u001b[34;49mnotice\u001b[0m\u001b[1;39;49m]\u001b[0m\u001b[39;49m A new release of pip is available: \u001b[0m\u001b[31;49m24.2\u001b[0m\u001b[39;49m -> \u001b[0m\u001b[32;49m24.3.1\u001b[0m\n",
      "\u001b[1m[\u001b[0m\u001b[34;49mnotice\u001b[0m\u001b[1;39;49m]\u001b[0m\u001b[39;49m To update, run: \u001b[0m\u001b[32;49m/Library/Developer/CommandLineTools/usr/bin/python3 -m pip install --upgrade pip\u001b[0m\n",
      "Note: you may need to restart the kernel to use updated packages.\n"
     ]
    }
   ],
   "source": [
    "pip install beautifulsoup4 requests\n"
   ]
  },
  {
   "cell_type": "code",
   "execution_count": 3,
   "metadata": {},
   "outputs": [
    {
     "name": "stdout",
     "output_type": "stream",
     "text": [
      "Veri çekme başarısız oldu: 'NoneType' object has no attribute 'find_all'\n"
     ]
    }
   ],
   "source": [
    "from bs4 import BeautifulSoup\n",
    "import requests\n",
    "import json\n",
    "\n",
    "# AFAD web sitesi URL'si (örnek)\n",
    "AFAD_URL = \"https://deprem.afad.gov.tr/last-earthquakes.html\"  # Gerçek URL kontrol edilmeli\n",
    "\n",
    "def scrape_afad_earthquake_data(output_file):\n",
    "    \"\"\"\n",
    "    AFAD web sitesinden deprem verilerini scrape eder ve JSON dosyasına kaydeder.\n",
    "    \"\"\"\n",
    "    try:\n",
    "        # Web sitesine GET isteği gönder\n",
    "        response = requests.get(AFAD_URL)\n",
    "        response.raise_for_status()  # Hata kontrolü\n",
    "\n",
    "        # HTML içeriğini ayrıştır\n",
    "        soup = BeautifulSoup(response.content, \"html.parser\")\n",
    "\n",
    "        # Deprem verilerini içeren tabloyu bul\n",
    "        table = soup.find(\"table\", {\"id\": \"earthquakeTable\"})  # Örnek id\n",
    "        rows = table.find_all(\"tr\")[1:]  # Başlık satırını atla\n",
    "\n",
    "        # Verileri ayrıştır\n",
    "        earthquake_data = []\n",
    "        for row in rows:\n",
    "            cols = row.find_all(\"td\")\n",
    "            earthquake = {\n",
    "                \"date\": cols[0].text.strip(),\n",
    "                \"latitude\": cols[1].text.strip(),\n",
    "                \"longitude\": cols[2].text.strip(),\n",
    "                \"depth\": cols[3].text.strip(),\n",
    "                \"magnitude\": cols[4].text.strip(),\n",
    "                \"location\": cols[5].text.strip(),\n",
    "            }\n",
    "            earthquake_data.append(earthquake)\n",
    "\n",
    "        # JSON dosyasına kaydet\n",
    "        with open(output_file, \"w\") as file:\n",
    "            json.dump(earthquake_data, file, indent=4)\n",
    "\n",
    "        print(f\"AFAD verileri '{output_file}' dosyasına kaydedildi.\")\n",
    "    except Exception as e:\n",
    "        print(f\"Veri çekme başarısız oldu: {e}\")\n",
    "\n",
    "# Örnek kullanım\n",
    "if __name__ == \"__main__\":\n",
    "    scrape_afad_earthquake_data(\"afad_scraped_data.json\")\n"
   ]
  },
  {
   "cell_type": "code",
   "execution_count": 4,
   "metadata": {},
   "outputs": [
    {
     "name": "stdout",
     "output_type": "stream",
     "text": [
      "AFAD verileri 'afad_scraped_data.json' dosyasına kaydedildi.\n"
     ]
    }
   ],
   "source": [
    "from bs4 import BeautifulSoup\n",
    "import requests\n",
    "import json\n",
    "\n",
    "# AFAD web sitesi URL'si\n",
    "AFAD_URL = \"https://deprem.afad.gov.tr/last-earthquakes.html\"  # URL'yi kontrol edin\n",
    "\n",
    "def scrape_afad_earthquake_data(output_file):\n",
    "    \"\"\"\n",
    "    AFAD web sitesinden deprem verilerini scrape eder ve JSON dosyasına kaydeder.\n",
    "    \"\"\"\n",
    "    try:\n",
    "        # Web sitesine GET isteği gönder (User-Agent eklenmiş)\n",
    "        headers = {\"User-Agent\": \"Mozilla/5.0 (Windows NT 10.0; Win64; x64) AppleWebKit/537.36 (KHTML, like Gecko) Chrome/91.0.4472.124 Safari/537.36\"}\n",
    "        response = requests.get(AFAD_URL, headers=headers)\n",
    "        response.raise_for_status()  # Hata kontrolü\n",
    "\n",
    "        # HTML içeriğini ayrıştır\n",
    "        soup = BeautifulSoup(response.content, \"html.parser\")\n",
    "\n",
    "        # Deprem verilerini içeren tabloyu bul\n",
    "        table = soup.find(\"table\")  # Tablonun ID'si yoksa genel olarak \"table\" öğesini alın\n",
    "        if not table:\n",
    "            raise ValueError(\"Tablo bulunamadı. Tablo yapısını kontrol edin.\")\n",
    "\n",
    "        rows = table.find_all(\"tr\")[1:]  # Başlık satırını atla\n",
    "\n",
    "        # Verileri ayrıştır\n",
    "        earthquake_data = []\n",
    "        for row in rows:\n",
    "            cols = row.find_all(\"td\")\n",
    "            if len(cols) >= 6:  # Tabloda en az 6 sütun varsa\n",
    "                earthquake = {\n",
    "                    \"date\": cols[0].text.strip(),\n",
    "                    \"latitude\": cols[1].text.strip(),\n",
    "                    \"longitude\": cols[2].text.strip(),\n",
    "                    \"depth\": cols[3].text.strip(),\n",
    "                    \"magnitude\": cols[4].text.strip(),\n",
    "                    \"location\": cols[5].text.strip(),\n",
    "                }\n",
    "                earthquake_data.append(earthquake)\n",
    "\n",
    "        # JSON dosyasına kaydet\n",
    "        with open(output_file, \"w\") as file:\n",
    "            json.dump(earthquake_data, file, indent=4)\n",
    "\n",
    "        print(f\"AFAD verileri '{output_file}' dosyasına kaydedildi.\")\n",
    "    except Exception as e:\n",
    "        print(f\"Veri çekme başarısız oldu: {e}\")\n",
    "\n",
    "# Örnek kullanım\n",
    "if __name__ == \"__main__\":\n",
    "    scrape_afad_earthquake_data(\"afad_scraped_data.json\")\n"
   ]
  },
  {
   "cell_type": "code",
   "execution_count": null,
   "metadata": {},
   "outputs": [],
   "source": []
  }
 ],
 "metadata": {
  "kernelspec": {
   "display_name": "Python 3",
   "language": "python",
   "name": "python3"
  },
  "language_info": {
   "codemirror_mode": {
    "name": "ipython",
    "version": 3
   },
   "file_extension": ".py",
   "mimetype": "text/x-python",
   "name": "python",
   "nbconvert_exporter": "python",
   "pygments_lexer": "ipython3",
   "version": "3.9.6"
  }
 },
 "nbformat": 4,
 "nbformat_minor": 2
}
