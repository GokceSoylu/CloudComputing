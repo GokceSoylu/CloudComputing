{
 "cells": [
  {
   "cell_type": "code",
   "execution_count": 1,
   "metadata": {},
   "outputs": [
    {
     "name": "stderr",
     "output_type": "stream",
     "text": [
      "/Users/gokcesoylu/Library/Python/3.9/lib/python/site-packages/urllib3/__init__.py:35: NotOpenSSLWarning: urllib3 v2 only supports OpenSSL 1.1.1+, currently the 'ssl' module is compiled with 'LibreSSL 2.8.3'. See: https://github.com/urllib3/urllib3/issues/3020\n",
      "  warnings.warn(\n"
     ]
    },
    {
     "name": "stdout",
     "output_type": "stream",
     "text": [
      "Veri çekme başarısız oldu: 'NoneType' object has no attribute 'find_all'\n"
     ]
    }
   ],
   "source": [
    "from bs4 import BeautifulSoup\n",
    "import requests\n",
    "import json\n",
    "\n",
    "# EMSC web sitesi URL'si\n",
    "EMSC_URL = \"https://www.emsc-csem.org/Earthquake/\"\n",
    "\n",
    "def scrape_emsc_earthquake_data(output_file):\n",
    "    \"\"\"\n",
    "    EMSC web sitesinden deprem verilerini scrape eder ve JSON dosyasına kaydeder.\n",
    "    \"\"\"\n",
    "    try:\n",
    "        # Web sitesine GET isteği gönder\n",
    "        headers = {\"User-Agent\": \"Mozilla/5.0 (Windows NT 10.0; Win64; x64) AppleWebKit/537.36 (KHTML, like Gecko) Chrome/91.0.4472.124 Safari/537.36\"}\n",
    "        response = requests.get(EMSC_URL, headers=headers)\n",
    "        response.raise_for_status()  # Hata kontrolü\n",
    "\n",
    "        # HTML içeriğini ayrıştır\n",
    "        soup = BeautifulSoup(response.content, \"html.parser\")\n",
    "\n",
    "        # Deprem verilerini içeren tabloyu bul\n",
    "        table = soup.find(\"table\", {\"id\": \"tbody\"})  # Güncel tablo yapısını kontrol edin\n",
    "        rows = table.find_all(\"tr\")\n",
    "\n",
    "        earthquake_data = []\n",
    "\n",
    "        # Satırları ayrıştır\n",
    "        for row in rows:\n",
    "            cols = row.find_all(\"td\")\n",
    "            if len(cols) >= 6:  # Tabloda en az 6 sütun varsa\n",
    "                earthquake = {\n",
    "                    \"date\": cols[3].text.strip(),\n",
    "                    \"latitude\": cols[4].text.strip(),\n",
    "                    \"longitude\": cols[5].text.strip(),\n",
    "                    \"depth_km\": cols[6].text.strip(),\n",
    "                    \"magnitude\": cols[7].text.strip(),\n",
    "                    \"location\": cols[8].text.strip(),\n",
    "                }\n",
    "                earthquake_data.append(earthquake)\n",
    "\n",
    "        # JSON dosyasına kaydet\n",
    "        with open(output_file, \"w\") as file:\n",
    "            json.dump(earthquake_data, file, indent=4, ensure_ascii=False)\n",
    "\n",
    "        print(f\"EMSC verileri '{output_file}' dosyasına kaydedildi.\")\n",
    "    except Exception as e:\n",
    "        print(f\"Veri çekme başarısız oldu: {e}\")\n",
    "\n",
    "# Örnek kullanım\n",
    "if __name__ == \"__main__\":\n",
    "    scrape_emsc_earthquake_data(\"emsc_earthquake_data.json\")\n"
   ]
  },
  {
   "cell_type": "code",
   "execution_count": null,
   "metadata": {},
   "outputs": [],
   "source": []
  }
 ],
 "metadata": {
  "kernelspec": {
   "display_name": "Python 3",
   "language": "python",
   "name": "python3"
  },
  "language_info": {
   "codemirror_mode": {
    "name": "ipython",
    "version": 3
   },
   "file_extension": ".py",
   "mimetype": "text/x-python",
   "name": "python",
   "nbconvert_exporter": "python",
   "pygments_lexer": "ipython3",
   "version": "3.9.6"
  }
 },
 "nbformat": 4,
 "nbformat_minor": 2
}
