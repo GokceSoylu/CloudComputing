{
 "cells": [
  {
   "cell_type": "code",
   "execution_count": 1,
   "metadata": {},
   "outputs": [
    {
     "name": "stderr",
     "output_type": "stream",
     "text": [
      "/Users/gokcesoylu/Library/Python/3.9/lib/python/site-packages/urllib3/__init__.py:35: NotOpenSSLWarning: urllib3 v2 only supports OpenSSL 1.1.1+, currently the 'ssl' module is compiled with 'LibreSSL 2.8.3'. See: https://github.com/urllib3/urllib3/issues/3020\n",
      "  warnings.warn(\n"
     ]
    },
    {
     "name": "stdout",
     "output_type": "stream",
     "text": [
      "Veri çekme başarısız oldu: 'NoneType' object has no attribute 'find_all'\n"
     ]
    }
   ],
   "source": [
    "from bs4 import BeautifulSoup\n",
    "import requests\n",
    "import json\n",
    "\n",
    "# EMSC web sitesi URL'si\n",
    "EMSC_URL = \"https://www.emsc-csem.org/Earthquake/\"\n",
    "\n",
    "def scrape_emsc_earthquake_data(output_file):\n",
    "    \"\"\"\n",
    "    EMSC web sitesinden deprem verilerini scrape eder ve JSON dosyasına kaydeder.\n",
    "    \"\"\"\n",
    "    try:\n",
    "        # Web sitesine GET isteği gönder\n",
    "        headers = {\"User-Agent\": \"Mozilla/5.0 (Windows NT 10.0; Win64; x64) AppleWebKit/537.36 (KHTML, like Gecko) Chrome/91.0.4472.124 Safari/537.36\"}\n",
    "        response = requests.get(EMSC_URL, headers=headers)\n",
    "        response.raise_for_status()  # Hata kontrolü\n",
    "\n",
    "        # HTML içeriğini ayrıştır\n",
    "        soup = BeautifulSoup(response.content, \"html.parser\")\n",
    "\n",
    "        # Deprem verilerini içeren tabloyu bul\n",
    "        table = soup.find(\"table\", {\"id\": \"tbody\"})  # Güncel tablo yapısını kontrol edin\n",
    "        rows = table.find_all(\"tr\")\n",
    "\n",
    "        earthquake_data = []\n",
    "\n",
    "        # Satırları ayrıştır\n",
    "        for row in rows:\n",
    "            cols = row.find_all(\"td\")\n",
    "            if len(cols) >= 6:  # Tabloda en az 6 sütun varsa\n",
    "                earthquake = {\n",
    "                    \"date\": cols[3].text.strip(),\n",
    "                    \"latitude\": cols[4].text.strip(),\n",
    "                    \"longitude\": cols[5].text.strip(),\n",
    "                    \"depth_km\": cols[6].text.strip(),\n",
    "                    \"magnitude\": cols[7].text.strip(),\n",
    "                    \"location\": cols[8].text.strip(),\n",
    "                }\n",
    "                earthquake_data.append(earthquake)\n",
    "\n",
    "        # JSON dosyasına kaydet\n",
    "        with open(output_file, \"w\") as file:\n",
    "            json.dump(earthquake_data, file, indent=4, ensure_ascii=False)\n",
    "\n",
    "        print(f\"EMSC verileri '{output_file}' dosyasına kaydedildi.\")\n",
    "    except Exception as e:\n",
    "        print(f\"Veri çekme başarısız oldu: {e}\")\n",
    "\n",
    "# Örnek kullanım\n",
    "if __name__ == \"__main__\":\n",
    "    scrape_emsc_earthquake_data(\"emsc_earthquake_data.json\")\n"
   ]
  },
  {
   "cell_type": "code",
   "execution_count": 2,
   "metadata": {},
   "outputs": [
    {
     "name": "stdout",
     "output_type": "stream",
     "text": [
      "Veri çekme başarısız oldu: Tablo bulunamadı. Tablonun ID'si değişmiş olabilir.\n"
     ]
    }
   ],
   "source": [
    "from bs4 import BeautifulSoup\n",
    "import requests\n",
    "import json\n",
    "\n",
    "# EMSC web sitesi URL'si\n",
    "EMSC_URL = \"https://www.emsc-csem.org/Earthquake/\"\n",
    "\n",
    "def scrape_emsc_earthquake_data(output_file):\n",
    "    \"\"\"\n",
    "    EMSC web sitesinden deprem verilerini scrape eder ve JSON dosyasına kaydeder.\n",
    "    \"\"\"\n",
    "    try:\n",
    "        # Web sitesine GET isteği gönder\n",
    "        headers = {\"User-Agent\": \"Mozilla/5.0 (Windows NT 10.0; Win64; x64) AppleWebKit/537.36 (KHTML, like Gecko) Chrome/91.0.4472.124 Safari/537.36\"}\n",
    "        response = requests.get(EMSC_URL, headers=headers)\n",
    "        response.raise_for_status()  # Hata kontrolü\n",
    "\n",
    "        # HTML içeriğini ayrıştır\n",
    "        soup = BeautifulSoup(response.content, \"html.parser\")\n",
    "\n",
    "        # Tabloyu bul (tablo id'sini güncelledik)\n",
    "        table = soup.find(\"table\", {\"id\": \"tbody\"})  # Tablonun ID'sini doğrulayın\n",
    "        if not table:\n",
    "            raise ValueError(\"Tablo bulunamadı. Tablonun ID'si değişmiş olabilir.\")\n",
    "\n",
    "        rows = table.find_all(\"tr\")\n",
    "\n",
    "        earthquake_data = []\n",
    "\n",
    "        # Satırları ayrıştır\n",
    "        for row in rows:\n",
    "            cols = row.find_all(\"td\")\n",
    "            if len(cols) >= 6:  # Tabloda en az 6 sütun varsa\n",
    "                earthquake = {\n",
    "                    \"date\": cols[3].text.strip(),\n",
    "                    \"latitude\": cols[4].text.strip(),\n",
    "                    \"longitude\": cols[5].text.strip(),\n",
    "                    \"depth_km\": cols[6].text.strip(),\n",
    "                    \"magnitude\": cols[7].text.strip(),\n",
    "                    \"location\": cols[8].text.strip(),\n",
    "                }\n",
    "                earthquake_data.append(earthquake)\n",
    "\n",
    "        # JSON dosyasına kaydet\n",
    "        with open(output_file, \"w\") as file:\n",
    "            json.dump(earthquake_data, file, indent=4, ensure_ascii=False)\n",
    "\n",
    "        print(f\"EMSC verileri '{output_file}' dosyasına kaydedildi.\")\n",
    "    except Exception as e:\n",
    "        print(f\"Veri çekme başarısız oldu: {e}\")\n",
    "\n",
    "# Örnek kullanım\n",
    "if __name__ == \"__main__\":\n",
    "    scrape_emsc_earthquake_data(\"emsc_earthquake_data.json\")\n"
   ]
  },
  {
   "cell_type": "code",
   "execution_count": 3,
   "metadata": {},
   "outputs": [
    {
     "name": "stdout",
     "output_type": "stream",
     "text": [
      "Veri çekme başarısız oldu: Message: Unable to obtain driver for chrome; For documentation on this error, please visit: https://www.selenium.dev/documentation/webdriver/troubleshooting/errors/driver_location\n",
      "\n"
     ]
    }
   ],
   "source": [
    "from selenium import webdriver\n",
    "from selenium.webdriver.common.by import By\n",
    "from selenium.webdriver.chrome.service import Service\n",
    "from selenium.webdriver.chrome.options import Options\n",
    "import time\n",
    "import json\n",
    "\n",
    "# Selenium için Chrome driver ayarları\n",
    "options = Options()\n",
    "options.add_argument(\"--headless\")  # Arka planda çalışması için\n",
    "options.add_argument(\"--disable-gpu\")\n",
    "service = Service(\"chromedriver_path\")  # Kendi bilgisayarındaki chromedriver'ın yolunu yaz\n",
    "\n",
    "# EMSC URL\n",
    "EMSC_URL = \"https://www.emsc-csem.org/Earthquake/\"\n",
    "\n",
    "def scrape_emsc_with_selenium(output_file):\n",
    "    \"\"\"\n",
    "    Selenium kullanarak EMSC web sitesinden deprem verilerini alır ve JSON dosyasına kaydeder.\n",
    "    \"\"\"\n",
    "    try:\n",
    "        # Tarayıcı başlat\n",
    "        driver = webdriver.Chrome(service=service, options=options)\n",
    "        driver.get(EMSC_URL)\n",
    "        time.sleep(5)  # Sayfanın tamamen yüklenmesini bekle\n",
    "\n",
    "        # Tabloyu bul (XPath ile)\n",
    "        rows = driver.find_elements(By.XPATH, \"//table[@id='tbody']/tr\")\n",
    "        earthquake_data = []\n",
    "\n",
    "        for row in rows:\n",
    "            cols = row.find_elements(By.TAG_NAME, \"td\")\n",
    "            if len(cols) >= 6:  # Yeterli sütun varsa\n",
    "                earthquake = {\n",
    "                    \"date\": cols[3].text.strip(),\n",
    "                    \"latitude\": cols[4].text.strip(),\n",
    "                    \"longitude\": cols[5].text.strip(),\n",
    "                    \"depth_km\": cols[6].text.strip(),\n",
    "                    \"magnitude\": cols[7].text.strip(),\n",
    "                    \"location\": cols[8].text.strip(),\n",
    "                }\n",
    "                earthquake_data.append(earthquake)\n",
    "\n",
    "        # Tarayıcı kapat\n",
    "        driver.quit()\n",
    "\n",
    "        # JSON dosyasına kaydet\n",
    "        with open(output_file, \"w\") as file:\n",
    "            json.dump(earthquake_data, file, indent=4, ensure_ascii=False)\n",
    "\n",
    "        print(f\"EMSC verileri '{output_file}' dosyasına kaydedildi.\")\n",
    "    except Exception as e:\n",
    "        print(f\"Veri çekme başarısız oldu: {e}\")\n",
    "\n",
    "# Örnek kullanım\n",
    "if __name__ == \"__main__\":\n",
    "    scrape_emsc_with_selenium(\"emsc_earthquake_data.json\")\n"
   ]
  },
  {
   "cell_type": "code",
   "execution_count": 4,
   "metadata": {},
   "outputs": [
    {
     "name": "stdout",
     "output_type": "stream",
     "text": [
      "Siteye başarıyla bağlanıldı.\n",
      "Veri tablosu bulunamadı!\n"
     ]
    },
    {
     "ename": "AttributeError",
     "evalue": "'NoneType' object has no attribute 'find_all'",
     "output_type": "error",
     "traceback": [
      "\u001b[0;31m---------------------------------------------------------------------------\u001b[0m",
      "\u001b[0;31mAttributeError\u001b[0m                            Traceback (most recent call last)",
      "Cell \u001b[0;32mIn[4], line 26\u001b[0m\n\u001b[1;32m     23\u001b[0m     exit()\n\u001b[1;32m     25\u001b[0m \u001b[38;5;66;03m# Tablo satırlarını al\u001b[39;00m\n\u001b[0;32m---> 26\u001b[0m rows \u001b[38;5;241m=\u001b[39m \u001b[43mtable\u001b[49m\u001b[38;5;241;43m.\u001b[39;49m\u001b[43mfind_all\u001b[49m(\u001b[38;5;124m\"\u001b[39m\u001b[38;5;124mtr\u001b[39m\u001b[38;5;124m\"\u001b[39m)\n\u001b[1;32m     28\u001b[0m \u001b[38;5;66;03m# Veri başlıklarını al\u001b[39;00m\n\u001b[1;32m     29\u001b[0m headers \u001b[38;5;241m=\u001b[39m [header\u001b[38;5;241m.\u001b[39mtext\u001b[38;5;241m.\u001b[39mstrip() \u001b[38;5;28;01mfor\u001b[39;00m header \u001b[38;5;129;01min\u001b[39;00m rows[\u001b[38;5;241m0\u001b[39m]\u001b[38;5;241m.\u001b[39mfind_all(\u001b[38;5;124m\"\u001b[39m\u001b[38;5;124mth\u001b[39m\u001b[38;5;124m\"\u001b[39m)]\n",
      "\u001b[0;31mAttributeError\u001b[0m: 'NoneType' object has no attribute 'find_all'"
     ]
    },
    {
     "ename": "",
     "evalue": "",
     "output_type": "error",
     "traceback": [
      "\u001b[1;31mThe Kernel crashed while executing code in the current cell or a previous cell. \n",
      "\u001b[1;31mPlease review the code in the cell(s) to identify a possible cause of the failure. \n",
      "\u001b[1;31mClick <a href='https://aka.ms/vscodeJupyterKernelCrash'>here</a> for more info. \n",
      "\u001b[1;31mView Jupyter <a href='command:jupyter.viewOutput'>log</a> for further details."
     ]
    }
   ],
   "source": [
    "import requests\n",
    "from bs4 import BeautifulSoup\n",
    "import pandas as pd\n",
    "\n",
    "# Hedef URL\n",
    "url = \"https://www.emsc-csem.org/Earthquake/\"  # EMSC'nin deprem verileri sayfası\n",
    "\n",
    "# HTTP isteği\n",
    "response = requests.get(url)\n",
    "if response.status_code == 200:\n",
    "    print(\"Siteye başarıyla bağlanıldı.\")\n",
    "else:\n",
    "    print(\"Siteye bağlanılamadı. Durum Kodu:\", response.status_code)\n",
    "    exit()\n",
    "\n",
    "# HTML parse işlemi\n",
    "soup = BeautifulSoup(response.text, \"html.parser\")\n",
    "\n",
    "# Verilerin bulunduğu tabloyu seçmek\n",
    "table = soup.find(\"table\", class_=\"table\")  # Tablo sınıfını kontrol edin\n",
    "if not table:\n",
    "    print(\"Veri tablosu bulunamadı!\")\n",
    "    exit()\n",
    "\n",
    "# Tablo satırlarını al\n",
    "rows = table.find_all(\"tr\")\n",
    "\n",
    "# Veri başlıklarını al\n",
    "headers = [header.text.strip() for header in rows[0].find_all(\"th\")]\n",
    "\n",
    "# Veri satırlarını işle\n",
    "data = []\n",
    "for row in rows[1:]:\n",
    "    cols = row.find_all(\"td\")\n",
    "    cols = [col.text.strip() for col in cols]\n",
    "    if cols:  # Eğer satır boş değilse\n",
    "        data.append(cols)\n",
    "\n",
    "# Veriyi DataFrame'e dönüştür\n",
    "df = pd.DataFrame(data, columns=headers)\n",
    "\n",
    "# CSV dosyasına kaydet\n",
    "df.to_csv(\"earthquake_data.csv\", index=False)\n",
    "print(\"Deprem verileri 'earthquake_data.csv' dosyasına kaydedildi.\")\n"
   ]
  },
  {
   "cell_type": "code",
   "execution_count": null,
   "metadata": {},
   "outputs": [],
   "source": []
  }
 ],
 "metadata": {
  "kernelspec": {
   "display_name": "Python 3",
   "language": "python",
   "name": "python3"
  },
  "language_info": {
   "codemirror_mode": {
    "name": "ipython",
    "version": 3
   },
   "file_extension": ".py",
   "mimetype": "text/x-python",
   "name": "python",
   "nbconvert_exporter": "python",
   "pygments_lexer": "ipython3",
   "version": "3.9.6"
  }
 },
 "nbformat": 4,
 "nbformat_minor": 2
}
