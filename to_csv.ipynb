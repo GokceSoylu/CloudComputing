{
 "cells": [
  {
   "cell_type": "markdown",
   "metadata": {},
   "source": [
    "# AFAD"
   ]
  },
  {
   "cell_type": "code",
   "execution_count": 8,
   "metadata": {},
   "outputs": [
    {
     "name": "stdout",
     "output_type": "stream",
     "text": [
      "JSON dosyası işlenirken hata oluştu: Extra data: line 24002 column 2 (char 582722)\n"
     ]
    }
   ],
   "source": [
    "import json\n",
    "import csv\n",
    "\n",
    "# Dosya yolları\n",
    "input_file = \"afad_more.json\"  # JSON dosyasının adı\n",
    "output_file = \"afad_more.csv\"  # Çıkış CSV dosyasının adı\n",
    "\n",
    "# JSON'dan CSV'ye dönüştürme\n",
    "try:\n",
    "    with open(input_file, \"r\", encoding=\"utf-8\") as json_file:\n",
    "        # JSON verisini yükle\n",
    "        data = json.load(json_file)\n",
    "\n",
    "        # CSV dosyasına yazma\n",
    "        with open(output_file, \"w\", newline=\"\", encoding=\"utf-8\") as csv_file:\n",
    "            writer = csv.writer(csv_file)\n",
    "            \n",
    "            # Başlıkları yaz (ilk satır)\n",
    "            headers = [\"date\", \"latitude\", \"longitude\", \"depth\", \"magnitude\", \"location\"]\n",
    "            writer.writerow(headers)\n",
    "            \n",
    "            # Her bir girdiyi yaz\n",
    "            for entry in data:\n",
    "                writer.writerow([\n",
    "                    entry.get(\"date\", \"\"),       # Tarih\n",
    "                    entry.get(\"latitude\", \"\"),   # Enlem\n",
    "                    entry.get(\"longitude\", \"\"),  # Boylam\n",
    "                    entry.get(\"depth\", \"\"),      # Derinlik\n",
    "                    entry.get(\"magnitude\", \"\"),  # Büyüklük\n",
    "                    entry.get(\"location\", \"\")    # Konum\n",
    "                ])\n",
    "\n",
    "    print(f\"Veriler başarıyla '{output_file}' dosyasına dönüştürüldü.\")\n",
    "except FileNotFoundError:\n",
    "    print(f\"'{input_file}' dosyası bulunamadı.\")\n",
    "except json.JSONDecodeError as e:\n",
    "    print(f\"JSON dosyası işlenirken hata oluştu: {e}\")\n",
    "except Exception as e:\n",
    "    print(f\"Bir hata oluştu: {e}\")\n"
   ]
  },
  {
   "cell_type": "markdown",
   "metadata": {},
   "source": [
    "# KANDİLLİ"
   ]
  },
  {
   "cell_type": "code",
   "execution_count": 2,
   "metadata": {},
   "outputs": [
    {
     "ename": "JSONDecodeError",
     "evalue": "Extra data: line 4002 column 2 (char 111499)",
     "output_type": "error",
     "traceback": [
      "\u001b[0;31m---------------------------------------------------------------------------\u001b[0m",
      "\u001b[0;31mJSONDecodeError\u001b[0m                           Traceback (most recent call last)",
      "Cell \u001b[0;32mIn[2], line 10\u001b[0m\n\u001b[1;32m      8\u001b[0m \u001b[38;5;66;03m# JSON'dan CSV'ye dönüştürme\u001b[39;00m\n\u001b[1;32m      9\u001b[0m \u001b[38;5;28;01mwith\u001b[39;00m \u001b[38;5;28mopen\u001b[39m(input_file, \u001b[38;5;124m\"\u001b[39m\u001b[38;5;124mr\u001b[39m\u001b[38;5;124m\"\u001b[39m) \u001b[38;5;28;01mas\u001b[39;00m json_file:\n\u001b[0;32m---> 10\u001b[0m     data \u001b[38;5;241m=\u001b[39m \u001b[43mjson\u001b[49m\u001b[38;5;241;43m.\u001b[39;49m\u001b[43mload\u001b[49m\u001b[43m(\u001b[49m\u001b[43mjson_file\u001b[49m\u001b[43m)\u001b[49m\n\u001b[1;32m     12\u001b[0m \u001b[38;5;28;01mwith\u001b[39;00m \u001b[38;5;28mopen\u001b[39m(output_file, \u001b[38;5;124m\"\u001b[39m\u001b[38;5;124mw\u001b[39m\u001b[38;5;124m\"\u001b[39m, newline\u001b[38;5;241m=\u001b[39m\u001b[38;5;124m\"\u001b[39m\u001b[38;5;124m\"\u001b[39m, encoding\u001b[38;5;241m=\u001b[39m\u001b[38;5;124m\"\u001b[39m\u001b[38;5;124mutf-8\u001b[39m\u001b[38;5;124m\"\u001b[39m) \u001b[38;5;28;01mas\u001b[39;00m csv_file:\n\u001b[1;32m     13\u001b[0m     writer \u001b[38;5;241m=\u001b[39m csv\u001b[38;5;241m.\u001b[39mwriter(csv_file)\n",
      "File \u001b[0;32m/Library/Developer/CommandLineTools/Library/Frameworks/Python3.framework/Versions/3.9/lib/python3.9/json/__init__.py:293\u001b[0m, in \u001b[0;36mload\u001b[0;34m(fp, cls, object_hook, parse_float, parse_int, parse_constant, object_pairs_hook, **kw)\u001b[0m\n\u001b[1;32m    274\u001b[0m \u001b[38;5;28;01mdef\u001b[39;00m \u001b[38;5;21mload\u001b[39m(fp, \u001b[38;5;241m*\u001b[39m, \u001b[38;5;28mcls\u001b[39m\u001b[38;5;241m=\u001b[39m\u001b[38;5;28;01mNone\u001b[39;00m, object_hook\u001b[38;5;241m=\u001b[39m\u001b[38;5;28;01mNone\u001b[39;00m, parse_float\u001b[38;5;241m=\u001b[39m\u001b[38;5;28;01mNone\u001b[39;00m,\n\u001b[1;32m    275\u001b[0m         parse_int\u001b[38;5;241m=\u001b[39m\u001b[38;5;28;01mNone\u001b[39;00m, parse_constant\u001b[38;5;241m=\u001b[39m\u001b[38;5;28;01mNone\u001b[39;00m, object_pairs_hook\u001b[38;5;241m=\u001b[39m\u001b[38;5;28;01mNone\u001b[39;00m, \u001b[38;5;241m*\u001b[39m\u001b[38;5;241m*\u001b[39mkw):\n\u001b[1;32m    276\u001b[0m \u001b[38;5;250m    \u001b[39m\u001b[38;5;124;03m\"\"\"Deserialize ``fp`` (a ``.read()``-supporting file-like object containing\u001b[39;00m\n\u001b[1;32m    277\u001b[0m \u001b[38;5;124;03m    a JSON document) to a Python object.\u001b[39;00m\n\u001b[1;32m    278\u001b[0m \n\u001b[0;32m   (...)\u001b[0m\n\u001b[1;32m    291\u001b[0m \u001b[38;5;124;03m    kwarg; otherwise ``JSONDecoder`` is used.\u001b[39;00m\n\u001b[1;32m    292\u001b[0m \u001b[38;5;124;03m    \"\"\"\u001b[39;00m\n\u001b[0;32m--> 293\u001b[0m     \u001b[38;5;28;01mreturn\u001b[39;00m \u001b[43mloads\u001b[49m\u001b[43m(\u001b[49m\u001b[43mfp\u001b[49m\u001b[38;5;241;43m.\u001b[39;49m\u001b[43mread\u001b[49m\u001b[43m(\u001b[49m\u001b[43m)\u001b[49m\u001b[43m,\u001b[49m\n\u001b[1;32m    294\u001b[0m \u001b[43m        \u001b[49m\u001b[38;5;28;43mcls\u001b[39;49m\u001b[38;5;241;43m=\u001b[39;49m\u001b[38;5;28;43mcls\u001b[39;49m\u001b[43m,\u001b[49m\u001b[43m \u001b[49m\u001b[43mobject_hook\u001b[49m\u001b[38;5;241;43m=\u001b[39;49m\u001b[43mobject_hook\u001b[49m\u001b[43m,\u001b[49m\n\u001b[1;32m    295\u001b[0m \u001b[43m        \u001b[49m\u001b[43mparse_float\u001b[49m\u001b[38;5;241;43m=\u001b[39;49m\u001b[43mparse_float\u001b[49m\u001b[43m,\u001b[49m\u001b[43m \u001b[49m\u001b[43mparse_int\u001b[49m\u001b[38;5;241;43m=\u001b[39;49m\u001b[43mparse_int\u001b[49m\u001b[43m,\u001b[49m\n\u001b[1;32m    296\u001b[0m \u001b[43m        \u001b[49m\u001b[43mparse_constant\u001b[49m\u001b[38;5;241;43m=\u001b[39;49m\u001b[43mparse_constant\u001b[49m\u001b[43m,\u001b[49m\u001b[43m \u001b[49m\u001b[43mobject_pairs_hook\u001b[49m\u001b[38;5;241;43m=\u001b[39;49m\u001b[43mobject_pairs_hook\u001b[49m\u001b[43m,\u001b[49m\u001b[43m \u001b[49m\u001b[38;5;241;43m*\u001b[39;49m\u001b[38;5;241;43m*\u001b[39;49m\u001b[43mkw\u001b[49m\u001b[43m)\u001b[49m\n",
      "File \u001b[0;32m/Library/Developer/CommandLineTools/Library/Frameworks/Python3.framework/Versions/3.9/lib/python3.9/json/__init__.py:346\u001b[0m, in \u001b[0;36mloads\u001b[0;34m(s, cls, object_hook, parse_float, parse_int, parse_constant, object_pairs_hook, **kw)\u001b[0m\n\u001b[1;32m    341\u001b[0m     s \u001b[38;5;241m=\u001b[39m s\u001b[38;5;241m.\u001b[39mdecode(detect_encoding(s), \u001b[38;5;124m'\u001b[39m\u001b[38;5;124msurrogatepass\u001b[39m\u001b[38;5;124m'\u001b[39m)\n\u001b[1;32m    343\u001b[0m \u001b[38;5;28;01mif\u001b[39;00m (\u001b[38;5;28mcls\u001b[39m \u001b[38;5;129;01mis\u001b[39;00m \u001b[38;5;28;01mNone\u001b[39;00m \u001b[38;5;129;01mand\u001b[39;00m object_hook \u001b[38;5;129;01mis\u001b[39;00m \u001b[38;5;28;01mNone\u001b[39;00m \u001b[38;5;129;01mand\u001b[39;00m\n\u001b[1;32m    344\u001b[0m         parse_int \u001b[38;5;129;01mis\u001b[39;00m \u001b[38;5;28;01mNone\u001b[39;00m \u001b[38;5;129;01mand\u001b[39;00m parse_float \u001b[38;5;129;01mis\u001b[39;00m \u001b[38;5;28;01mNone\u001b[39;00m \u001b[38;5;129;01mand\u001b[39;00m\n\u001b[1;32m    345\u001b[0m         parse_constant \u001b[38;5;129;01mis\u001b[39;00m \u001b[38;5;28;01mNone\u001b[39;00m \u001b[38;5;129;01mand\u001b[39;00m object_pairs_hook \u001b[38;5;129;01mis\u001b[39;00m \u001b[38;5;28;01mNone\u001b[39;00m \u001b[38;5;129;01mand\u001b[39;00m \u001b[38;5;129;01mnot\u001b[39;00m kw):\n\u001b[0;32m--> 346\u001b[0m     \u001b[38;5;28;01mreturn\u001b[39;00m \u001b[43m_default_decoder\u001b[49m\u001b[38;5;241;43m.\u001b[39;49m\u001b[43mdecode\u001b[49m\u001b[43m(\u001b[49m\u001b[43ms\u001b[49m\u001b[43m)\u001b[49m\n\u001b[1;32m    347\u001b[0m \u001b[38;5;28;01mif\u001b[39;00m \u001b[38;5;28mcls\u001b[39m \u001b[38;5;129;01mis\u001b[39;00m \u001b[38;5;28;01mNone\u001b[39;00m:\n\u001b[1;32m    348\u001b[0m     \u001b[38;5;28mcls\u001b[39m \u001b[38;5;241m=\u001b[39m JSONDecoder\n",
      "File \u001b[0;32m/Library/Developer/CommandLineTools/Library/Frameworks/Python3.framework/Versions/3.9/lib/python3.9/json/decoder.py:340\u001b[0m, in \u001b[0;36mJSONDecoder.decode\u001b[0;34m(self, s, _w)\u001b[0m\n\u001b[1;32m    338\u001b[0m end \u001b[38;5;241m=\u001b[39m _w(s, end)\u001b[38;5;241m.\u001b[39mend()\n\u001b[1;32m    339\u001b[0m \u001b[38;5;28;01mif\u001b[39;00m end \u001b[38;5;241m!=\u001b[39m \u001b[38;5;28mlen\u001b[39m(s):\n\u001b[0;32m--> 340\u001b[0m     \u001b[38;5;28;01mraise\u001b[39;00m JSONDecodeError(\u001b[38;5;124m\"\u001b[39m\u001b[38;5;124mExtra data\u001b[39m\u001b[38;5;124m\"\u001b[39m, s, end)\n\u001b[1;32m    341\u001b[0m \u001b[38;5;28;01mreturn\u001b[39;00m obj\n",
      "\u001b[0;31mJSONDecodeError\u001b[0m: Extra data: line 4002 column 2 (char 111499)"
     ]
    }
   ],
   "source": [
    "import json\n",
    "import csv\n",
    "\n",
    "# Dosya yolları\n",
    "input_file = \"kandill_more_data_draft.json\"\n",
    "output_file = \"kandill_more_data.csv\"\n",
    "\n",
    "# JSON'dan CSV'ye dönüştürme\n",
    "with open(input_file, \"r\") as json_file:\n",
    "    data = json.load(json_file)\n",
    "\n",
    "with open(output_file, \"w\", newline=\"\", encoding=\"utf-8\") as csv_file:\n",
    "    writer = csv.writer(csv_file)\n",
    "    # Başlıkları yaz\n",
    "    writer.writerow([\"date\", \"latitude\", \"longitude\", \"depth_km\", \"magnitude\", \"location\"])\n",
    "\n",
    "    # Verileri yaz\n",
    "    for entry in data:\n",
    "        writer.writerow([\n",
    "            entry[\"date\"],\n",
    "            entry[\"latitude\"],\n",
    "            entry[\"longitude\"],\n",
    "            entry[\"depth_km\"],\n",
    "            entry[\"magnitude\"],\n",
    "            entry[\"location\"]\n",
    "        ])\n",
    "\n",
    "print(f\"Veriler '{output_file}' dosyasına başarıyla dönüştürüldü.\")\n"
   ]
  },
  {
   "cell_type": "markdown",
   "metadata": {},
   "source": [
    "# kaggle dosyası"
   ]
  },
  {
   "cell_type": "code",
   "execution_count": 10,
   "metadata": {},
   "outputs": [
    {
     "name": "stdout",
     "output_type": "stream",
     "text": [
      "Dönüştürme tamamlandı. Veriler '/Users/gokcesoylu/CloudComputing/kaggle_earthquake2.csv' dosyasına yazıldı.\n"
     ]
    }
   ],
   "source": [
    "import csv\n",
    "from datetime import datetime\n",
    "\n",
    "# Girdi ve çıktı dosyalarının yolları\n",
    "input_file = \"/Users/gokcesoylu/CloudComputing/earthquake_data/earthquake_data.csv\"\n",
    "output_file = \"/Users/gokcesoylu/CloudComputing/kaggle_earthquake2.csv\"\n",
    "\n",
    "# Verileri dönüştürme ve yazma işlemi\n",
    "def transform_csv(input_file, output_file):\n",
    "    try:\n",
    "        with open(input_file, \"r\", encoding=\"utf-8\") as infile, open(output_file, \"w\", newline=\"\", encoding=\"utf-8\") as outfile:\n",
    "            reader = csv.DictReader(infile)\n",
    "            fieldnames = [\"date\", \"latitude\", \"longitude\", \"depth\", \"magnitude\", \"location\"]\n",
    "            writer = csv.DictWriter(outfile, fieldnames=fieldnames)\n",
    "            writer.writeheader()\n",
    "            \n",
    "            for row in reader:\n",
    "                try:\n",
    "                    # Verileri dönüştür\n",
    "                    date_time = datetime.strptime(row[\"date_time\"], \"%d-%m-%Y %H:%M\").strftime(\"%Y-%m-%dT%H:%M:%S\")\n",
    "                    latitude = row[\"latitude\"]\n",
    "                    longitude = row[\"longitude\"]\n",
    "                    depth = row[\"depth\"]\n",
    "                    magnitude = row[\"magnitude\"]\n",
    "                    location = row[\"location\"] if row[\"location\"] else f\"{row['continent']} {row['country']}\"\n",
    "                    \n",
    "                    # Yeni satırı yaz\n",
    "                    writer.writerow({\n",
    "                        \"date\": date_time,\n",
    "                        \"latitude\": latitude,\n",
    "                        \"longitude\": longitude,\n",
    "                        \"depth\": depth,\n",
    "                        \"magnitude\": magnitude,\n",
    "                        \"location\": location\n",
    "                    })\n",
    "                except Exception as e:\n",
    "                    print(f\"Satır işlenirken hata oluştu: {e}\")\n",
    "\n",
    "        print(f\"Dönüştürme tamamlandı. Veriler '{output_file}' dosyasına yazıldı.\")\n",
    "    except FileNotFoundError:\n",
    "        print(f\"Girdi dosyası bulunamadı: {input_file}\")\n",
    "    except Exception as e:\n",
    "        print(f\"Bir hata oluştu: {e}\")\n",
    "\n",
    "# Fonksiyonu çalıştır\n",
    "transform_csv(input_file, output_file)\n"
   ]
  },
  {
   "cell_type": "code",
   "execution_count": null,
   "metadata": {},
   "outputs": [],
   "source": []
  }
 ],
 "metadata": {
  "kernelspec": {
   "display_name": "Python 3",
   "language": "python",
   "name": "python3"
  },
  "language_info": {
   "codemirror_mode": {
    "name": "ipython",
    "version": 3
   },
   "file_extension": ".py",
   "mimetype": "text/x-python",
   "name": "python",
   "nbconvert_exporter": "python",
   "pygments_lexer": "ipython3",
   "version": "3.9.6"
  }
 },
 "nbformat": 4,
 "nbformat_minor": 2
}
