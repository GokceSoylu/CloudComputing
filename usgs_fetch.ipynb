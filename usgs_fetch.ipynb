{
 "cells": [
  {
   "cell_type": "code",
   "execution_count": 1,
   "metadata": {},
   "outputs": [
    {
     "name": "stderr",
     "output_type": "stream",
     "text": [
      "/Users/gokcesoylu/Library/Python/3.9/lib/python/site-packages/urllib3/__init__.py:35: NotOpenSSLWarning: urllib3 v2 only supports OpenSSL 1.1.1+, currently the 'ssl' module is compiled with 'LibreSSL 2.8.3'. See: https://github.com/urllib3/urllib3/issues/3020\n",
      "  warnings.warn(\n"
     ]
    },
    {
     "name": "stdout",
     "output_type": "stream",
     "text": [
      "Veriler 'earthquake_data.json' dosyasına kaydedildi.\n"
     ]
    }
   ],
   "source": [
    "import requests\n",
    "import json\n",
    "from datetime import datetime, timedelta\n",
    "\n",
    "# USGS API endpoint\n",
    "USGS_API_URL = \"https://earthquake.usgs.gov/fdsnws/event/1/query\"\n",
    "\n",
    "def fetch_earthquake_data(start_time, end_time, min_magnitude, max_magnitude, output_file):\n",
    "    \"\"\"\n",
    "    USGS API'den deprem verilerini çeker ve JSON dosyasına kaydeder.\n",
    "    \"\"\"\n",
    "    params = {\n",
    "        \"format\": \"geojson\",\n",
    "        \"starttime\": start_time,\n",
    "        \"endtime\": end_time,\n",
    "        \"minmagnitude\": min_magnitude,\n",
    "        \"maxmagnitude\": max_magnitude\n",
    "    }\n",
    "\n",
    "    try:\n",
    "        # API isteği gönder\n",
    "        response = requests.get(USGS_API_URL, params=params)\n",
    "        response.raise_for_status()  # Hata kontrolü\n",
    "\n",
    "        # Yanıtı JSON formatında işleme\n",
    "        data = response.json()\n",
    "\n",
    "        # JSON dosyasına kaydet\n",
    "        with open(output_file, \"w\") as file:\n",
    "            json.dump(data, file, indent=4)\n",
    "\n",
    "        print(f\"Veriler '{output_file}' dosyasına kaydedildi.\")\n",
    "    except requests.exceptions.RequestException as e:\n",
    "        print(f\"API isteği başarısız oldu: {e}\")\n",
    "\n",
    "# Örnek kullanım\n",
    "if __name__ == \"__main__\":\n",
    "    # Geçtiğimiz bir haftalık depremleri çek\n",
    "    end_date = datetime.utcnow()\n",
    "    start_date = end_date - timedelta(days=7)\n",
    "\n",
    "    fetch_earthquake_data(\n",
    "        start_time=start_date.strftime(\"%Y-%m-%d\"),\n",
    "        end_time=end_date.strftime(\"%Y-%m-%d\"),\n",
    "        min_magnitude=4.0,  # Minimum büyüklük\n",
    "        max_magnitude=10.0, # Maksimum büyüklük\n",
    "        output_file=\"earthquake_data.json\"\n",
    "    )\n"
   ]
  },
  {
   "cell_type": "code",
   "execution_count": null,
   "metadata": {},
   "outputs": [],
   "source": []
  }
 ],
 "metadata": {
  "kernelspec": {
   "display_name": "Python 3",
   "language": "python",
   "name": "python3"
  },
  "language_info": {
   "codemirror_mode": {
    "name": "ipython",
    "version": 3
   },
   "file_extension": ".py",
   "mimetype": "text/x-python",
   "name": "python",
   "nbconvert_exporter": "python",
   "pygments_lexer": "ipython3",
   "version": "3.9.6"
  }
 },
 "nbformat": 4,
 "nbformat_minor": 2
}
