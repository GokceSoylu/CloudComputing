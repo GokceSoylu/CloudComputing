{
 "cells": [
  {
   "cell_type": "code",
   "execution_count": 1,
   "metadata": {},
   "outputs": [
    {
     "name": "stdout",
     "output_type": "stream",
     "text": [
      " * Serving Flask app '__main__'\n",
      " * Debug mode: on\n"
     ]
    },
    {
     "name": "stderr",
     "output_type": "stream",
     "text": [
      "\u001b[31m\u001b[1mWARNING: This is a development server. Do not use it in a production deployment. Use a production WSGI server instead.\u001b[0m\n",
      " * Running on http://127.0.0.1:5000\n",
      "\u001b[33mPress CTRL+C to quit\u001b[0m\n",
      " * Restarting with stat\n",
      "Traceback (most recent call last):\n",
      "  File \"/Users/gokcesoylu/Library/Python/3.9/lib/python/site-packages/ipykernel_launcher.py\", line 18, in <module>\n",
      "    app.launch_new_instance()\n",
      "  File \"/Users/gokcesoylu/Library/Python/3.9/lib/python/site-packages/traitlets/config/application.py\", line 1074, in launch_instance\n",
      "    app.initialize(argv)\n",
      "  File \"/Users/gokcesoylu/Library/Python/3.9/lib/python/site-packages/traitlets/config/application.py\", line 118, in inner\n",
      "    return method(app, *args, **kwargs)\n",
      "  File \"/Users/gokcesoylu/Library/Python/3.9/lib/python/site-packages/ipykernel/kernelapp.py\", line 692, in initialize\n",
      "    self.init_sockets()\n",
      "  File \"/Users/gokcesoylu/Library/Python/3.9/lib/python/site-packages/ipykernel/kernelapp.py\", line 331, in init_sockets\n",
      "    self.shell_port = self._bind_socket(self.shell_socket, self.shell_port)\n",
      "  File \"/Users/gokcesoylu/Library/Python/3.9/lib/python/site-packages/ipykernel/kernelapp.py\", line 253, in _bind_socket\n",
      "    return self._try_bind_socket(s, port)\n",
      "  File \"/Users/gokcesoylu/Library/Python/3.9/lib/python/site-packages/ipykernel/kernelapp.py\", line 229, in _try_bind_socket\n",
      "    s.bind(\"tcp://%s:%i\" % (self.ip, port))\n",
      "  File \"/Users/gokcesoylu/Library/Python/3.9/lib/python/site-packages/zmq/sugar/socket.py\", line 311, in bind\n",
      "    super().bind(addr)\n",
      "  File \"_zmq.py\", line 917, in zmq.backend.cython._zmq.Socket.bind\n",
      "  File \"_zmq.py\", line 179, in zmq.backend.cython._zmq._check_rc\n",
      "zmq.error.ZMQError: Address already in use (addr='tcp://127.0.0.1:9007')\n"
     ]
    },
    {
     "ename": "SystemExit",
     "evalue": "1",
     "output_type": "error",
     "traceback": [
      "An exception has occurred, use %tb to see the full traceback.\n",
      "\u001b[0;31mSystemExit\u001b[0m\u001b[0;31m:\u001b[0m 1\n"
     ]
    },
    {
     "name": "stderr",
     "output_type": "stream",
     "text": [
      "/Users/gokcesoylu/Library/Python/3.9/lib/python/site-packages/IPython/core/interactiveshell.py:3558: UserWarning: To exit: use 'exit', 'quit', or Ctrl-D.\n",
      "  warn(\"To exit: use 'exit', 'quit', or Ctrl-D.\", stacklevel=1)\n"
     ]
    }
   ],
   "source": [
    "from flask import Flask, request, jsonify\n",
    "import boto3\n",
    "\n",
    "app = Flask(__name__)\n",
    "\n",
    "# AWS Config\n",
    "s3_client = boto3.client('s3')\n",
    "athena_client = boto3.client('athena', region_name='us-east-1')\n",
    "sns_client = boto3.client('sns')\n",
    "\n",
    "# Bucket ve Athena ayarları\n",
    "S3_BUCKET = 'bucket-adiniz'\n",
    "ATHENA_OUTPUT = 's3://bucket-adiniz/athena-output/'\n",
    "TOPIC_ARN = 'arn:aws:sns:us-east-1:123456789012:DepremBildirim'\n",
    "\n",
    "@app.route('/query', methods=['GET'])\n",
    "def query_data():\n",
    "    region = request.args.get('region')\n",
    "    start_time = request.args.get('start_time')\n",
    "    end_time = request.args.get('end_time')\n",
    "\n",
    "    query = f\"\"\"\n",
    "        SELECT * FROM deprem_verisi\n",
    "        WHERE bolge = '{region}' \n",
    "        AND zaman BETWEEN '{start_time}' AND '{end_time}'\n",
    "    \"\"\"\n",
    "\n",
    "    response = athena_client.start_query_execution(\n",
    "        QueryString=query,\n",
    "        QueryExecutionContext={'Database': 'depremler'},\n",
    "        ResultConfiguration={'OutputLocation': ATHENA_OUTPUT}\n",
    "    )\n",
    "\n",
    "    query_id = response['QueryExecutionId']\n",
    "    result = athena_client.get_query_results(QueryExecutionId=query_id)\n",
    "    return jsonify(result)\n",
    "\n",
    "@app.route('/notify', methods=['POST'])\n",
    "def send_notification():\n",
    "    data = request.json\n",
    "    magnitude = data.get('magnitude')\n",
    "    region = data.get('region')\n",
    "    phone_number = data.get('phone_number')\n",
    "\n",
    "    if magnitude >= 4.0:  # Eşik değer\n",
    "        message = f\"{region} bölgesinde {magnitude} büyüklüğünde deprem oldu!\"\n",
    "        sns_client.publish(PhoneNumber=phone_number, Message=message)\n",
    "\n",
    "    return jsonify({'status': 'Notification sent'})\n",
    "\n",
    "if __name__ == '__main__':\n",
    "    app.run(debug=True)\n"
   ]
  },
  {
   "cell_type": "code",
   "execution_count": null,
   "metadata": {},
   "outputs": [],
   "source": []
  }
 ],
 "metadata": {
  "kernelspec": {
   "display_name": "Python 3",
   "language": "python",
   "name": "python3"
  },
  "language_info": {
   "codemirror_mode": {
    "name": "ipython",
    "version": 3
   },
   "file_extension": ".py",
   "mimetype": "text/x-python",
   "name": "python",
   "nbconvert_exporter": "python",
   "pygments_lexer": "ipython3",
   "version": "3.9.6"
  }
 },
 "nbformat": 4,
 "nbformat_minor": 2
}
