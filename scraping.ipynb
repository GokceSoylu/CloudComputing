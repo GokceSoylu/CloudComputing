{
 "cells": [
  {
   "cell_type": "code",
   "execution_count": 2,
   "metadata": {},
   "outputs": [
    {
     "name": "stdout",
     "output_type": "stream",
     "text": [
      "Defaulting to user installation because normal site-packages is not writeable\n",
      "Requirement already satisfied: requests in /Users/gokcesoylu/Library/Python/3.9/lib/python/site-packages (2.32.3)\n",
      "Requirement already satisfied: pandas in /Users/gokcesoylu/Library/Python/3.9/lib/python/site-packages (2.2.3)\n",
      "Requirement already satisfied: charset-normalizer<4,>=2 in /Users/gokcesoylu/Library/Python/3.9/lib/python/site-packages (from requests) (3.4.0)\n",
      "Requirement already satisfied: idna<4,>=2.5 in /Users/gokcesoylu/Library/Python/3.9/lib/python/site-packages (from requests) (3.10)\n",
      "Requirement already satisfied: urllib3<3,>=1.21.1 in /Users/gokcesoylu/Library/Python/3.9/lib/python/site-packages (from requests) (2.2.3)\n",
      "Requirement already satisfied: certifi>=2017.4.17 in /Users/gokcesoylu/Library/Python/3.9/lib/python/site-packages (from requests) (2024.8.30)\n",
      "Requirement already satisfied: numpy>=1.22.4 in /Users/gokcesoylu/Library/Python/3.9/lib/python/site-packages (from pandas) (2.0.2)\n",
      "Requirement already satisfied: python-dateutil>=2.8.2 in /Users/gokcesoylu/Library/Python/3.9/lib/python/site-packages (from pandas) (2.9.0.post0)\n",
      "Requirement already satisfied: pytz>=2020.1 in /Users/gokcesoylu/Library/Python/3.9/lib/python/site-packages (from pandas) (2024.2)\n",
      "Requirement already satisfied: tzdata>=2022.7 in /Users/gokcesoylu/Library/Python/3.9/lib/python/site-packages (from pandas) (2024.2)\n",
      "Requirement already satisfied: six>=1.5 in /Library/Developer/CommandLineTools/Library/Frameworks/Python3.framework/Versions/3.9/lib/python3.9/site-packages (from python-dateutil>=2.8.2->pandas) (1.15.0)\n",
      "\n",
      "\u001b[1m[\u001b[0m\u001b[34;49mnotice\u001b[0m\u001b[1;39;49m]\u001b[0m\u001b[39;49m A new release of pip is available: \u001b[0m\u001b[31;49m24.2\u001b[0m\u001b[39;49m -> \u001b[0m\u001b[32;49m24.3.1\u001b[0m\n",
      "\u001b[1m[\u001b[0m\u001b[34;49mnotice\u001b[0m\u001b[1;39;49m]\u001b[0m\u001b[39;49m To update, run: \u001b[0m\u001b[32;49m/Library/Developer/CommandLineTools/usr/bin/python3 -m pip install --upgrade pip\u001b[0m\n",
      "Note: you may need to restart the kernel to use updated packages.\n"
     ]
    }
   ],
   "source": [
    "pip install requests pandas"
   ]
  },
  {
   "cell_type": "code",
   "execution_count": 3,
   "metadata": {},
   "outputs": [
    {
     "name": "stderr",
     "output_type": "stream",
     "text": [
      "/Users/gokcesoylu/Library/Python/3.9/lib/python/site-packages/urllib3/__init__.py:35: NotOpenSSLWarning: urllib3 v2 only supports OpenSSL 1.1.1+, currently the 'ssl' module is compiled with 'LibreSSL 2.8.3'. See: https://github.com/urllib3/urllib3/issues/3020\n",
      "  warnings.warn(\n"
     ]
    },
    {
     "name": "stdout",
     "output_type": "stream",
     "text": [
      "Veriler başarılı bir şekilde kaydedildi.\n"
     ]
    }
   ],
   "source": [
    "import requests\n",
    "import pandas as pd\n",
    "\n",
    "# USGS API URL'si\n",
    "api_url = \"https://earthquake.usgs.gov/fdsnws/event/1/query\"\n",
    "\n",
    "# Parametreler\n",
    "params = {\n",
    "    \"format\": \"geojson\",\n",
    "    \"starttime\": \"2024-01-01\",\n",
    "    \"endtime\": \"2024-01-31\",\n",
    "    \"minmagnitude\": 4.5\n",
    "}\n",
    "\n",
    "# API'den veri çekme\n",
    "response = requests.get(api_url, params=params)\n",
    "\n",
    "if response.status_code == 200:\n",
    "    data = response.json()\n",
    "    earthquakes = []\n",
    "    \n",
    "    # JSON verilerini işleme\n",
    "    for feature in data['features']:\n",
    "        properties = feature['properties']\n",
    "        earthquakes.append({\n",
    "            \"Time\": properties['time'],\n",
    "            \"Magnitude\": properties['mag'],\n",
    "            \"Place\": properties['place'],\n",
    "            \"Longitude\": feature['geometry']['coordinates'][0],\n",
    "            \"Latitude\": feature['geometry']['coordinates'][1],\n",
    "            \"Depth\": feature['geometry']['coordinates'][2]\n",
    "        })\n",
    "\n",
    "    # Veriyi DataFrame'e çevirme\n",
    "    df = pd.DataFrame(earthquakes)\n",
    "    df['Time'] = pd.to_datetime(df['Time'], unit='ms')  # Zamanı düzenleme\n",
    "\n",
    "    # CSV olarak kaydetme\n",
    "    df.to_csv(\"earthquake_data.csv\", index=False)\n",
    "    print(\"Veriler başarılı bir şekilde kaydedildi.\")\n",
    "else:\n",
    "    print(\"API çağrısında hata oluştu:\", response.status_code)\n"
   ]
  },
  {
   "cell_type": "code",
   "execution_count": null,
   "metadata": {},
   "outputs": [],
   "source": []
  }
 ],
 "metadata": {
  "kernelspec": {
   "display_name": "Python 3",
   "language": "python",
   "name": "python3"
  },
  "language_info": {
   "codemirror_mode": {
    "name": "ipython",
    "version": 3
   },
   "file_extension": ".py",
   "mimetype": "text/x-python",
   "name": "python",
   "nbconvert_exporter": "python",
   "pygments_lexer": "ipython3",
   "version": "3.9.6"
  }
 },
 "nbformat": 4,
 "nbformat_minor": 2
}
